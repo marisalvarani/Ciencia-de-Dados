{
 "cells": [
  {
   "cell_type": "code",
   "execution_count": 1,
   "metadata": {},
   "outputs": [
    {
     "data": {
      "text/html": [
       "<div>\n",
       "<style scoped>\n",
       "    .dataframe tbody tr th:only-of-type {\n",
       "        vertical-align: middle;\n",
       "    }\n",
       "\n",
       "    .dataframe tbody tr th {\n",
       "        vertical-align: top;\n",
       "    }\n",
       "\n",
       "    .dataframe thead th {\n",
       "        text-align: right;\n",
       "    }\n",
       "</style>\n",
       "<table border=\"1\" class=\"dataframe\">\n",
       "  <thead>\n",
       "    <tr style=\"text-align: right;\">\n",
       "      <th></th>\n",
       "      <th>peso</th>\n",
       "      <th>sexo</th>\n",
       "      <th>sedentario</th>\n",
       "      <th>covid</th>\n",
       "      <th>grave</th>\n",
       "    </tr>\n",
       "  </thead>\n",
       "  <tbody>\n",
       "    <tr>\n",
       "      <th>0</th>\n",
       "      <td>30</td>\n",
       "      <td>masculino</td>\n",
       "      <td>sim</td>\n",
       "      <td>sim</td>\n",
       "      <td>sim</td>\n",
       "    </tr>\n",
       "    <tr>\n",
       "      <th>1</th>\n",
       "      <td>45</td>\n",
       "      <td>feminino</td>\n",
       "      <td>nao</td>\n",
       "      <td>nao</td>\n",
       "      <td>nao</td>\n",
       "    </tr>\n",
       "    <tr>\n",
       "      <th>2</th>\n",
       "      <td>37</td>\n",
       "      <td>feminino</td>\n",
       "      <td>nao</td>\n",
       "      <td>sim</td>\n",
       "      <td>sim</td>\n",
       "    </tr>\n",
       "    <tr>\n",
       "      <th>3</th>\n",
       "      <td>33</td>\n",
       "      <td>feminino</td>\n",
       "      <td>sim</td>\n",
       "      <td>sim</td>\n",
       "      <td>sim</td>\n",
       "    </tr>\n",
       "    <tr>\n",
       "      <th>4</th>\n",
       "      <td>25</td>\n",
       "      <td>masculino</td>\n",
       "      <td>nao</td>\n",
       "      <td>nao</td>\n",
       "      <td>nao</td>\n",
       "    </tr>\n",
       "    <tr>\n",
       "      <th>5</th>\n",
       "      <td>18</td>\n",
       "      <td>feminino</td>\n",
       "      <td>nao</td>\n",
       "      <td>nao</td>\n",
       "      <td>nao</td>\n",
       "    </tr>\n",
       "    <tr>\n",
       "      <th>6</th>\n",
       "      <td>14</td>\n",
       "      <td>feminino</td>\n",
       "      <td>sim</td>\n",
       "      <td>nao</td>\n",
       "      <td>sim</td>\n",
       "    </tr>\n",
       "    <tr>\n",
       "      <th>7</th>\n",
       "      <td>28</td>\n",
       "      <td>masculino</td>\n",
       "      <td>sim</td>\n",
       "      <td>sim</td>\n",
       "      <td>sim</td>\n",
       "    </tr>\n",
       "    <tr>\n",
       "      <th>8</th>\n",
       "      <td>12</td>\n",
       "      <td>masculino</td>\n",
       "      <td>sim</td>\n",
       "      <td>sim</td>\n",
       "      <td>sim</td>\n",
       "    </tr>\n",
       "    <tr>\n",
       "      <th>9</th>\n",
       "      <td>86</td>\n",
       "      <td>masculino</td>\n",
       "      <td>sim</td>\n",
       "      <td>sim</td>\n",
       "      <td>sim</td>\n",
       "    </tr>\n",
       "    <tr>\n",
       "      <th>10</th>\n",
       "      <td>73</td>\n",
       "      <td>feminino</td>\n",
       "      <td>nao</td>\n",
       "      <td>nao</td>\n",
       "      <td>nao</td>\n",
       "    </tr>\n",
       "  </tbody>\n",
       "</table>\n",
       "</div>"
      ],
      "text/plain": [
       "    peso       sexo sedentario covid grave\n",
       "0     30  masculino        sim   sim   sim\n",
       "1     45   feminino        nao   nao   nao\n",
       "2     37   feminino        nao   sim   sim\n",
       "3     33   feminino        sim   sim   sim\n",
       "4     25  masculino        nao   nao   nao\n",
       "5     18   feminino        nao   nao   nao\n",
       "6     14   feminino        sim   nao   sim\n",
       "7     28  masculino        sim   sim   sim\n",
       "8     12  masculino        sim   sim   sim\n",
       "9     86  masculino        sim   sim   sim\n",
       "10    73   feminino        nao   nao   nao"
      ]
     },
     "execution_count": 1,
     "metadata": {},
     "output_type": "execute_result"
    }
   ],
   "source": [
    "import pandas as pd\n",
    "import numpy as np\n",
    "\n",
    "# Dados para o DataFrame\n",
    "covid = {\n",
    "    \"peso\": [30, 45, 37, 33, 25, 18, 14, 28, 12, 86, 73],\n",
    "    \"sexo\": [\"masculino\", \"feminino\", \"feminino\", \"feminino\", \"masculino\", \n",
    "             \"feminino\", \"feminino\", \"masculino\", \"masculino\", \"masculino\", \n",
    "             \"feminino\"],\n",
    "    \"sedentario\": [\"sim\", \"nao\", \"nao\", \"sim\", \"nao\", \"nao\", \"sim\", \"sim\", \"sim\", \"sim\", \"nao\"],\n",
    "    \"covid\": [\"sim\", \"nao\", \"sim\", \"sim\", \"nao\", \"nao\", \"nao\", \"sim\", \"sim\", \"sim\", \"nao\"],\n",
    "    \"grave\": [\"sim\", \"nao\", \"sim\", \"sim\", \"nao\", \"nao\", \"sim\", \"sim\", \"sim\", \"sim\", \"nao\"]\n",
    "}\n",
    "\n",
    "# Criação do DataFrame\n",
    "df = pd.DataFrame(covid)\n",
    "\n",
    "df\n",
    "\n"
   ]
  },
  {
   "cell_type": "code",
   "execution_count": 2,
   "metadata": {},
   "outputs": [
    {
     "data": {
      "text/plain": [
       "array([0.46280992, 0.5       , 0.32      ])"
      ]
     },
     "execution_count": 2,
     "metadata": {},
     "output_type": "execute_result"
    }
   ],
   "source": [
    "from sklearn.tree import DecisionTreeClassifier\n",
    "\n",
    "#transformando variaveis categoricas em numéricas\n",
    "df['grave_numerica'] = df['grave'].map({'sim': 1, 'nao': 0})\n",
    "\n",
    "X = df[['sexo']]\n",
    "Y = df['grave_numerica']\n",
    "\n",
    "X = pd.get_dummies(X, drop_first=True)\n",
    "\n",
    "#treinar os dados\n",
    "clf = DecisionTreeClassifier(criterion = 'gini')\n",
    "clf.fit(X,Y)\n",
    "\n",
    "indice_gini = clf.tree_.impurity\n",
    "\n",
    "indice_gini"
   ]
  },
  {
   "cell_type": "code",
   "execution_count": 3,
   "metadata": {},
   "outputs": [
    {
     "data": {
      "text/plain": [
       "array([0.46280992, 0.32      , 0.        ])"
      ]
     },
     "execution_count": 3,
     "metadata": {},
     "output_type": "execute_result"
    }
   ],
   "source": [
    "X = df[['sedentario']]\n",
    "Y = df['grave_numerica']\n",
    "\n",
    "X = pd.get_dummies(X, drop_first=True)\n",
    "\n",
    "#treinar os dados\n",
    "clf = DecisionTreeClassifier(criterion = 'gini')\n",
    "clf.fit(X,Y)\n",
    "\n",
    "indice_gini = clf.tree_.impurity\n",
    "\n",
    "indice_gini"
   ]
  },
  {
   "cell_type": "code",
   "execution_count": 42,
   "metadata": {},
   "outputs": [
    {
     "data": {
      "image/png": "[encoded data removed]",
      "text/plain": [
       "<Figure size 1000x600 with 1 Axes>"
      ]
     },
     "metadata": {},
     "output_type": "display_data"
    },
    {
     "name": "stdout",
     "output_type": "stream",
     "text": [
      "A variável escolhida para a raiz da árvore é: sedentario\n"
     ]
    }
   ],
   "source": [
    "from sklearn.tree import DecisionTreeClassifier, plot_tree\n",
    "from sklearn.preprocessing import OrdinalEncoder, LabelEncoder\n",
    "import matplotlib.pyplot as plt\n",
    "\n",
    "\n",
    "# Definindo X e y\n",
    "X = df[['sexo', 'sedentario']]\n",
    "y = df['grave']  # Use a coluna 'grave' para y\n",
    "\n",
    "# Aplicando OrdinalEncoder em X\n",
    "encoder = OrdinalEncoder()\n",
    "X_encoded = encoder.fit_transform(X)\n",
    "\n",
    "# Aplicando LabelEncoder em y\n",
    "label_encoder = LabelEncoder()\n",
    "y_encoded = label_encoder.fit_transform(y)\n",
    "\n",
    "# Criando a árvore de decisão\n",
    "clf = DecisionTreeClassifier(max_depth=1, random_state=0)\n",
    "clf.fit(X_encoded, y_encoded)\n",
    "\n",
    "# Plotando a árvore de decisão\n",
    "plt.figure(figsize=(10, 6))\n",
    "plot_tree(clf, feature_names=encoder.get_feature_names_out(), class_names=label_encoder.classes_, filled=True)\n",
    "plt.title(\"Árvore de Decisão (max_depth=1)\")\n",
    "plt.show()\n",
    "\n",
    "# Variável escolhida para a raiz\n",
    "raiz = clf.feature_importances_.argmax()\n",
    "nome_variavel = encoder.get_feature_names_out()[raiz]\n",
    "\n",
    "print(\"A variável escolhida para a raiz da árvore é:\", nome_variavel)\n"
   ]
  },
  {
   "cell_type": "code",
   "execution_count": 5,
   "metadata": {},
   "outputs": [
    {
     "data": {
      "text/plain": [
       "[Text(0.5, 0.75, 'x[1] <= 0.5\\ngini = 0.463\\nsamples = 11\\nvalue = [4, 7]'),\n",
       " Text(0.25, 0.25, 'gini = 0.32\\nsamples = 5\\nvalue = [4, 1]'),\n",
       " Text(0.375, 0.5, 'True  '),\n",
       " Text(0.75, 0.25, 'gini = 0.0\\nsamples = 6\\nvalue = [0, 6]'),\n",
       " Text(0.625, 0.5, '  False')]"
      ]
     },
     "execution_count": 5,
     "metadata": {},
     "output_type": "execute_result"
    },
    {
     "data": {
      "image/png": "[encoded data removed]",
      "text/plain": [
       "<Figure size 640x480 with 1 Axes>"
      ]
     },
     "metadata": {},
     "output_type": "display_data"
    }
   ],
   "source": [
    "from sklearn.tree import DecisionTreeClassifier, plot_tree\n",
    "from sklearn.preprocessing import OrdinalEncoder, LabelEncoder\n",
    "import matplotlib.pyplot as plt\n",
    "\n",
    "# Definindo X e y\n",
    "X = df[['sexo', 'sedentario']]\n",
    "y = df['grave']  # Use a coluna 'grave' para y\n",
    "\n",
    "# Encoding\n",
    "X_encoder = OrdinalEncoder().fit_transform(X)\n",
    "Y_encoder = LabelEncoder().fit_transform(y)\n",
    "\n",
    "tree = DecisionTreeClassifier(max_depth=1, random_state=0).fit(X_encoder, Y_encoder)\n",
    "\n",
    "plot_tree(tree)"
   ]
  },
  {
   "cell_type": "code",
   "execution_count": 10,
   "metadata": {},
   "outputs": [
    {
     "data": {
      "text/plain": [
       "<bound method DataFrame.info of      PassengerId  Survived  Pclass  \\\n",
       "0              1         0       3   \n",
       "1              2         1       1   \n",
       "2              3         1       3   \n",
       "3              4         1       1   \n",
       "4              5         0       3   \n",
       "..           ...       ...     ...   \n",
       "886          887         0       2   \n",
       "887          888         1       1   \n",
       "888          889         0       3   \n",
       "889          890         1       1   \n",
       "890          891         0       3   \n",
       "\n",
       "                                                  Name     Sex   Age  SibSp  \\\n",
       "0                              Braund, Mr. Owen Harris    male  22.0      1   \n",
       "1    Cumings, Mrs. John Bradley (Florence Briggs Th...  female  38.0      1   \n",
       "2                               Heikkinen, Miss. Laina  female  26.0      0   \n",
       "3         Futrelle, Mrs. Jacques Heath (Lily May Peel)  female  35.0      1   \n",
       "4                             Allen, Mr. William Henry    male  35.0      0   \n",
       "..                                                 ...     ...   ...    ...   \n",
       "886                              Montvila, Rev. Juozas    male  27.0      0   \n",
       "887                       Graham, Miss. Margaret Edith  female  19.0      0   \n",
       "888           Johnston, Miss. Catherine Helen \"Carrie\"  female   NaN      1   \n",
       "889                              Behr, Mr. Karl Howell    male  26.0      0   \n",
       "890                                Dooley, Mr. Patrick    male  32.0      0   \n",
       "\n",
       "     Parch            Ticket     Fare Cabin Embarked  \n",
       "0        0         A/5 21171   7.2500   NaN        S  \n",
       "1        0          PC 17599  71.2833   C85        C  \n",
       "2        0  STON/O2. 3101282   7.9250   NaN        S  \n",
       "3        0            113803  53.1000  C123        S  \n",
       "4        0            373450   8.0500   NaN        S  \n",
       "..     ...               ...      ...   ...      ...  \n",
       "886      0            211536  13.0000   NaN        S  \n",
       "887      0            112053  30.0000   B42        S  \n",
       "888      2        W./C. 6607  23.4500   NaN        S  \n",
       "889      0            111369  30.0000  C148        C  \n",
       "890      0            370376   7.7500   NaN        Q  \n",
       "\n",
       "[891 rows x 12 columns]>"
      ]
     },
     "execution_count": 10,
     "metadata": {},
     "output_type": "execute_result"
    }
   ],
   "source": [
    "df_tit = pd.read_csv('train.csv')\n",
    "\n",
    "dados = df_tit.info\n",
    "\n",
    "dados"
   ]
  },
  {
   "cell_type": "code",
   "execution_count": 14,
   "metadata": {},
   "outputs": [
    {
     "data": {
      "text/plain": [
       "PassengerId      int64\n",
       "Survived         int64\n",
       "Pclass           int64\n",
       "Name            object\n",
       "Sex             object\n",
       "Age            float64\n",
       "SibSp            int64\n",
       "Parch            int64\n",
       "Ticket          object\n",
       "Fare           float64\n",
       "Cabin           object\n",
       "Embarked        object\n",
       "dtype: object"
      ]
     },
     "execution_count": 14,
     "metadata": {},
     "output_type": "execute_result"
    }
   ],
   "source": [
    "valores = df_tit.dtypes\n",
    "\n",
    "valores"
   ]
  },
  {
   "cell_type": "code",
   "execution_count": 21,
   "metadata": {},
   "outputs": [
    {
     "data": {
      "text/plain": [
       "np.float64(73.5)"
      ]
     },
     "execution_count": 21,
     "metadata": {},
     "output_type": "execute_result"
    }
   ],
   "source": [
    "segunda_classe = df_tit[df_tit['Pclass'] == 2]\n",
    "\n",
    "maior_passagem = segunda_classe['Fare'].max()\n",
    "maior_passagem"
   ]
  },
  {
   "cell_type": "code",
   "execution_count": 22,
   "metadata": {},
   "outputs": [
    {
     "data": {
      "text/plain": [
       "np.float64(84.1546875)"
      ]
     },
     "execution_count": 22,
     "metadata": {},
     "output_type": "execute_result"
    }
   ],
   "source": [
    "primeira_classe = df_tit[df_tit['Pclass'] == 1]\n",
    "\n",
    "media_passagem = primeira_classe['Fare'].mean()\n",
    "media_passagem"
   ]
  },
  {
   "cell_type": "code",
   "execution_count": 28,
   "metadata": {},
   "outputs": [
    {
     "name": "stdout",
     "output_type": "stream",
     "text": [
      "Primeira classe: 216, Segunda classe: 184, Terceira classe: 491\n"
     ]
    }
   ],
   "source": [
    "primeira_classe_total = df_tit[df_tit['Pclass'] == 1].shape[0]\n",
    "segunda_classe_total = df_tit[df_tit['Pclass'] == 2].shape[0]\n",
    "terceira_classe_total = df_tit[df_tit['Pclass'] == 3].shape[0]\n",
    "\n",
    "print(f'Primeira classe: {primeira_classe_total}, Segunda classe: {segunda_classe_total}, Terceira classe: {terceira_classe_total}')\n"
   ]
  },
  {
   "cell_type": "code",
   "execution_count": 29,
   "metadata": {},
   "outputs": [
    {
     "name": "stdout",
     "output_type": "stream",
     "text": [
      "Primeira classe: 216, Segunda classe: 184, Terceira classe: 491\n"
     ]
    }
   ],
   "source": [
    "primeira_classe_total = len(df_tit[df_tit['Pclass'] == 1])\n",
    "segunda_classe_total = len(df_tit[df_tit['Pclass'] == 2])\n",
    "terceira_classe_total = len(df_tit[df_tit['Pclass'] == 3])\n",
    "\n",
    "print(f'Primeira classe: {primeira_classe_total}, Segunda classe: {segunda_classe_total}, Terceira classe: {terceira_classe_total}')\n"
   ]
  },
  {
   "cell_type": "code",
   "execution_count": 33,
   "metadata": {},
   "outputs": [
    {
     "data": {
      "text/plain": [
       "891"
      ]
     },
     "execution_count": 33,
     "metadata": {},
     "output_type": "execute_result"
    }
   ],
   "source": [
    "total_passageiros = primeira_classe_total + segunda_classe_total + terceira_classe_total\n",
    "total_passageiros"
   ]
  },
  {
   "cell_type": "code",
   "execution_count": 34,
   "metadata": {},
   "outputs": [
    {
     "data": {
      "text/plain": [
       "0.24242424242424243"
      ]
     },
     "execution_count": 34,
     "metadata": {},
     "output_type": "execute_result"
    }
   ],
   "source": [
    "classe1 = primeira_classe_total/total_passageiros\n",
    "classe1"
   ]
  },
  {
   "cell_type": "code",
   "execution_count": 36,
   "metadata": {},
   "outputs": [
    {
     "name": "stdout",
     "output_type": "stream",
     "text": [
      "Age         177\n",
      "Cabin       687\n",
      "Embarked      2\n",
      "dtype: int64\n"
     ]
    }
   ],
   "source": [
    "# Verificar quais colunas têm elementos nulos\n",
    "colunas_nulas = df_tit.isnull().sum()\n",
    "\n",
    "# Filtrar apenas as colunas com valores nulos\n",
    "colunas_com_nulos = colunas_nulas[colunas_nulas > 0]\n",
    "\n",
    "print(colunas_com_nulos)\n"
   ]
  },
  {
   "cell_type": "code",
   "execution_count": 38,
   "metadata": {},
   "outputs": [
    {
     "data": {
      "text/plain": [
       "PassengerId      0\n",
       "Survived         0\n",
       "Pclass           0\n",
       "Name             0\n",
       "Sex              0\n",
       "Age            177\n",
       "SibSp            0\n",
       "Parch            0\n",
       "Ticket           0\n",
       "Fare             0\n",
       "Cabin          687\n",
       "Embarked         2\n",
       "dtype: int64"
      ]
     },
     "execution_count": 38,
     "metadata": {},
     "output_type": "execute_result"
    }
   ],
   "source": [
    "colunas_nulas = df_tit.isnull().sum()\n",
    "colunas_nulas"
   ]
  },
  {
   "cell_type": "code",
   "execution_count": 85,
   "metadata": {},
   "outputs": [
    {
     "name": "stdout",
     "output_type": "stream",
     "text": [
      "268 623\n"
     ]
    }
   ],
   "source": [
    "from sklearn.model_selection import train_test_split\n",
    "\n",
    "X = df_tit.drop(columns=['Survived'])\n",
    "y = df_tit['Survived']\n",
    "\n",
    "X_train, X_test, y_train, y_test = train_test_split(X, y, test_size=0.3, random_state = 42)\n",
    "\n",
    "conjunto_treino = len(X_train)\n",
    "conjunto_teste = len(X_test)\n",
    "\n",
    "print(conjunto_teste, conjunto_treino)"
   ]
  },
  {
   "cell_type": "code",
   "execution_count": 86,
   "metadata": {},
   "outputs": [
    {
     "name": "stderr",
     "output_type": "stream",
     "text": [
      "C:\\Users\\mari_\\AppData\\Local\\Temp\\ipykernel_20628\\3736754450.py:3: FutureWarning: A value is trying to be set on a copy of a DataFrame or Series through chained assignment using an inplace method.\n",
      "The behavior will change in pandas 3.0. This inplace method will never work because the intermediate object on which we are setting values always behaves as a copy.\n",
      "\n",
      "For example, when doing 'df[col].method(value, inplace=True)', try using 'df.method({col: value}, inplace=True)' or df[col] = df[col].method(value) instead, to perform the operation inplace on the original object.\n",
      "\n",
      "\n",
      "  X_train['Embarked'].fillna(valor_mais_frequente, inplace = True)\n"
     ]
    },
    {
     "data": {
      "text/plain": [
       "Embarked\n",
       "S    0.735152\n",
       "C    0.176565\n",
       "Q    0.088283\n",
       "Name: proportion, dtype: float64"
      ]
     },
     "execution_count": 86,
     "metadata": {},
     "output_type": "execute_result"
    }
   ],
   "source": [
    "valor_mais_frequente = X_train['Embarked'].mode()[0]\n",
    "\n",
    "X_train['Embarked'].fillna(valor_mais_frequente, inplace = True)\n",
    "\n",
    "proporcao_embarked = X_train['Embarked'].value_counts(normalize=True)\n",
    "\n",
    "proporcao_embarked"
   ]
  },
  {
   "cell_type": "code",
   "execution_count": 87,
   "metadata": {},
   "outputs": [
    {
     "name": "stdout",
     "output_type": "stream",
     "text": [
      "30.331526479750778\n"
     ]
    }
   ],
   "source": [
    "homens = X_train[X_train['Sex'] == 'male']\n",
    "\n",
    "idade_media_homens = homens['Age'].mean()\n",
    "\n",
    "print(idade_media_homens)"
   ]
  },
  {
   "cell_type": "code",
   "execution_count": 88,
   "metadata": {},
   "outputs": [
    {
     "name": "stdout",
     "output_type": "stream",
     "text": [
      "27.31741573033708\n"
     ]
    }
   ],
   "source": [
    "mulheres = X_train[X_train['Sex'] == 'female']\n",
    "\n",
    "idade_media_mulheres = mulheres['Age'].mean()\n",
    "\n",
    "print(idade_media_mulheres)"
   ]
  },
  {
   "cell_type": "code",
   "execution_count": 89,
   "metadata": {},
   "outputs": [
    {
     "name": "stderr",
     "output_type": "stream",
     "text": [
      "C:\\Users\\mari_\\AppData\\Local\\Temp\\ipykernel_20628\\3672248975.py:3: FutureWarning: A value is trying to be set on a copy of a DataFrame or Series through chained assignment using an inplace method.\n",
      "The behavior will change in pandas 3.0. This inplace method will never work because the intermediate object on which we are setting values always behaves as a copy.\n",
      "\n",
      "For example, when doing 'df[col].method(value, inplace=True)', try using 'df.method({col: value}, inplace=True)' or df[col] = df[col].method(value) instead, to perform the operation inplace on the original object.\n",
      "\n",
      "\n",
      "  mulheres_teste['Age'].fillna(idade_media_mulheres, inplace=True)\n",
      "C:\\Users\\mari_\\AppData\\Local\\Temp\\ipykernel_20628\\3672248975.py:3: SettingWithCopyWarning: \n",
      "A value is trying to be set on a copy of a slice from a DataFrame\n",
      "\n",
      "See the caveats in the documentation: https://pandas.pydata.org/pandas-docs/stable/user_guide/indexing.html#returning-a-view-versus-a-copy\n",
      "  mulheres_teste['Age'].fillna(idade_media_mulheres, inplace=True)\n"
     ]
    },
    {
     "data": {
      "text/plain": [
       "np.float64(28.86349983312938)"
      ]
     },
     "execution_count": 89,
     "metadata": {},
     "output_type": "execute_result"
    }
   ],
   "source": [
    "mulheres_teste = X_test[X_test['Sex'] == 'female']\n",
    "\n",
    "mulheres_teste['Age'].fillna(idade_media_mulheres, inplace=True)\n",
    "\n",
    "idade_media_mulheres_teste = mulheres_teste['Age'].mean()\n",
    "\n",
    "idade_media_mulheres_teste"
   ]
  },
  {
   "cell_type": "code",
   "execution_count": 90,
   "metadata": {},
   "outputs": [
    {
     "data": {
      "text/plain": [
       "np.float64(0.09409673412388482)"
      ]
     },
     "execution_count": 90,
     "metadata": {},
     "output_type": "execute_result"
    }
   ],
   "source": [
    "correlacao_pearson = X_train['Age'].corr(X_train['Fare'])\n",
    "\n",
    "correlacao_pearson"
   ]
  },
  {
   "cell_type": "code",
   "execution_count": 91,
   "metadata": {},
   "outputs": [
    {
     "data": {
      "text/plain": [
       "np.float64(0.44044234952676165)"
      ]
     },
     "execution_count": 91,
     "metadata": {},
     "output_type": "execute_result"
    }
   ],
   "source": [
    "correlacao_pearson1 = X_train['SibSp'].corr(X_train['Parch'])\n",
    "\n",
    "correlacao_pearson1"
   ]
  },
  {
   "cell_type": "code",
   "execution_count": 92,
   "metadata": {},
   "outputs": [
    {
     "data": {
      "text/plain": [
       "np.float64(-0.5292075556520719)"
      ]
     },
     "execution_count": 92,
     "metadata": {},
     "output_type": "execute_result"
    }
   ],
   "source": [
    "correlacao_pearson2 = X_train['Pclass'].corr(X_train['Fare'])\n",
    "\n",
    "correlacao_pearson2"
   ]
  },
  {
   "cell_type": "code",
   "execution_count": 93,
   "metadata": {},
   "outputs": [
    {
     "data": {
      "text/plain": [
       "np.float64(0.09714608270672613)"
      ]
     },
     "execution_count": 93,
     "metadata": {},
     "output_type": "execute_result"
    }
   ],
   "source": [
    "correlacao_pearson3 = X_train['Pclass'].corr(X_train['SibSp'])\n",
    "\n",
    "correlacao_pearson3"
   ]
  },
  {
   "cell_type": "code",
   "execution_count": 94,
   "metadata": {},
   "outputs": [],
   "source": [
    "X_train.drop(columns=['Cabin', 'Ticket', 'PassengerId', 'Name'], inplace=True)"
   ]
  },
  {
   "cell_type": "code",
   "execution_count": 95,
   "metadata": {},
   "outputs": [
    {
     "name": "stdout",
     "output_type": "stream",
     "text": [
      "213 101\n"
     ]
    }
   ],
   "source": [
    "X_train['Sex'] = X_train['Sex'].map({'male':0,'female':1})\n",
    "X_test['Sex'] = X_test['Sex'].map({'male':0,'female':1})\n",
    "\n",
    "mulher_treino = len(X_train[X_train['Sex'] == 1])\n",
    "mulher_teste = len(X_test[X_test['Sex'] == 1])\n",
    "\n",
    "print(mulher_treino, mulher_teste)"
   ]
  },
  {
   "cell_type": "code",
   "execution_count": 82,
   "metadata": {},
   "outputs": [
    {
     "data": {
      "text/plain": [
       "np.int64(220)"
      ]
     },
     "execution_count": 82,
     "metadata": {},
     "output_type": "execute_result"
    }
   ],
   "source": [
    "X_train['Embarked'] = X_train['Embarked'].map({'S':0,'C':1,'Q':2})\n",
    "\n",
    "total_embarked = X_train['Embarked'].sum()\n",
    "\n",
    "total_embarked"
   ]
  },
  {
   "cell_type": "code",
   "execution_count": 96,
   "metadata": {},
   "outputs": [
    {
     "name": "stdout",
     "output_type": "stream",
     "text": [
      "220\n"
     ]
    }
   ],
   "source": [
    "# Mapear os valores da coluna 'Embarked'\n",
    "X_train['Embarked'] = X_train['Embarked'].map({'S': 0, 'C': 1, 'Q': 2})\n",
    "\n",
    "# Somar todos os valores da coluna 'Embarked'\n",
    "total_embarked = X_train['Embarked'].sum()\n",
    "\n",
    "print(total_embarked)\n"
   ]
  },
  {
   "cell_type": "code",
   "execution_count": 97,
   "metadata": {},
   "outputs": [
    {
     "data": {
      "text/html": [
       "<div>\n",
       "<style scoped>\n",
       "    .dataframe tbody tr th:only-of-type {\n",
       "        vertical-align: middle;\n",
       "    }\n",
       "\n",
       "    .dataframe tbody tr th {\n",
       "        vertical-align: top;\n",
       "    }\n",
       "\n",
       "    .dataframe thead th {\n",
       "        text-align: right;\n",
       "    }\n",
       "</style>\n",
       "<table border=\"1\" class=\"dataframe\">\n",
       "  <thead>\n",
       "    <tr style=\"text-align: right;\">\n",
       "      <th></th>\n",
       "      <th>Pclass</th>\n",
       "      <th>Sex</th>\n",
       "      <th>Age</th>\n",
       "      <th>SibSp</th>\n",
       "      <th>Parch</th>\n",
       "      <th>Fare</th>\n",
       "      <th>Embarked</th>\n",
       "    </tr>\n",
       "  </thead>\n",
       "  <tbody>\n",
       "    <tr>\n",
       "      <th>445</th>\n",
       "      <td>1</td>\n",
       "      <td>0</td>\n",
       "      <td>4.0</td>\n",
       "      <td>0</td>\n",
       "      <td>2</td>\n",
       "      <td>81.8583</td>\n",
       "      <td>0</td>\n",
       "    </tr>\n",
       "    <tr>\n",
       "      <th>650</th>\n",
       "      <td>3</td>\n",
       "      <td>0</td>\n",
       "      <td>NaN</td>\n",
       "      <td>0</td>\n",
       "      <td>0</td>\n",
       "      <td>7.8958</td>\n",
       "      <td>0</td>\n",
       "    </tr>\n",
       "    <tr>\n",
       "      <th>172</th>\n",
       "      <td>3</td>\n",
       "      <td>1</td>\n",
       "      <td>1.0</td>\n",
       "      <td>1</td>\n",
       "      <td>1</td>\n",
       "      <td>11.1333</td>\n",
       "      <td>0</td>\n",
       "    </tr>\n",
       "    <tr>\n",
       "      <th>450</th>\n",
       "      <td>2</td>\n",
       "      <td>0</td>\n",
       "      <td>36.0</td>\n",
       "      <td>1</td>\n",
       "      <td>2</td>\n",
       "      <td>27.7500</td>\n",
       "      <td>0</td>\n",
       "    </tr>\n",
       "    <tr>\n",
       "      <th>314</th>\n",
       "      <td>2</td>\n",
       "      <td>0</td>\n",
       "      <td>43.0</td>\n",
       "      <td>1</td>\n",
       "      <td>1</td>\n",
       "      <td>26.2500</td>\n",
       "      <td>0</td>\n",
       "    </tr>\n",
       "  </tbody>\n",
       "</table>\n",
       "</div>"
      ],
      "text/plain": [
       "     Pclass  Sex   Age  SibSp  Parch     Fare  Embarked\n",
       "445       1    0   4.0      0      2  81.8583         0\n",
       "650       3    0   NaN      0      0   7.8958         0\n",
       "172       3    1   1.0      1      1  11.1333         0\n",
       "450       2    0  36.0      1      2  27.7500         0\n",
       "314       2    0  43.0      1      1  26.2500         0"
      ]
     },
     "execution_count": 97,
     "metadata": {},
     "output_type": "execute_result"
    }
   ],
   "source": [
    "X_train.head()"
   ]
  },
  {
   "cell_type": "code",
   "execution_count": 109,
   "metadata": {},
   "outputs": [
    {
     "data": {
      "text/plain": [
       "0.85553772070626"
      ]
     },
     "execution_count": 109,
     "metadata": {},
     "output_type": "execute_result"
    }
   ],
   "source": [
    "from sklearn.metrics import accuracy_score\n",
    "\n",
    "arvore = DecisionTreeClassifier(max_depth=5, random_state=42)\n",
    "\n",
    "arvore.fit(X_train, y_train)\n",
    "\n",
    "predicao = arvore.predict(X_train)\n",
    "\n",
    "acuracia = accuracy_score(y_train, predicao)\n",
    "\n",
    "acuracia"
   ]
  },
  {
   "cell_type": "code",
   "execution_count": 105,
   "metadata": {},
   "outputs": [
    {
     "name": "stdout",
     "output_type": "stream",
     "text": [
      "A acurácia aproximada no conjunto de treino é: 0.86\n"
     ]
    }
   ],
   "source": [
    "from sklearn.tree import DecisionTreeClassifier\n",
    "from sklearn.metrics import accuracy_score\n",
    "\n",
    "# Criar o modelo de árvore de decisão\n",
    "modelo = DecisionTreeClassifier(max_depth=5, random_state=42)\n",
    "\n",
    "# Ajustar o modelo aos dados de treino\n",
    "modelo.fit(X_train, y_train)  # Assumindo que y_train é sua variável alvo\n",
    "\n",
    "# Fazer previsões no conjunto de treino\n",
    "predicoes_treino = modelo.predict(X_train)\n",
    "\n",
    "# Calcular a acurácia\n",
    "acuracia_treino = accuracy_score(y_train, predicoes_treino)\n",
    "\n",
    "print(f'A acurácia aproximada no conjunto de treino é: {acuracia_treino:.2f}')\n"
   ]
  },
  {
   "cell_type": "code",
   "execution_count": 112,
   "metadata": {},
   "outputs": [],
   "source": [
    "X_test.drop(columns=['Cabin', 'Ticket', 'PassengerId', 'Name'], inplace=True)"
   ]
  },
  {
   "cell_type": "code",
   "execution_count": 114,
   "metadata": {},
   "outputs": [],
   "source": [
    "X_test['Embarked'] = X_train['Embarked'].map({'S':0,'C':1,'Q':2})"
   ]
  },
  {
   "cell_type": "code",
   "execution_count": 115,
   "metadata": {},
   "outputs": [
    {
     "data": {
      "text/plain": [
       "0.7686567164179104"
      ]
     },
     "execution_count": 115,
     "metadata": {},
     "output_type": "execute_result"
    }
   ],
   "source": [
    "predicao = arvore.predict(X_test)\n",
    "\n",
    "acuracia = accuracy_score(y_test, predicao)\n",
    "\n",
    "acuracia"
   ]
  },
  {
   "cell_type": "code",
   "execution_count": 116,
   "metadata": {},
   "outputs": [
    {
     "data": {
      "text/plain": [
       "0.9791332263242376"
      ]
     },
     "execution_count": 116,
     "metadata": {},
     "output_type": "execute_result"
    }
   ],
   "source": [
    "arvore2 = DecisionTreeClassifier(max_depth= None, random_state=42)\n",
    "\n",
    "arvore2.fit(X_train, y_train)\n",
    "\n",
    "acuracia2 = accuracy_score(y_train, arvore2.predict(X_train))\n",
    "\n",
    "acuracia2"
   ]
  },
  {
   "cell_type": "code",
   "execution_count": 117,
   "metadata": {},
   "outputs": [
    {
     "data": {
      "text/plain": [
       "0.7350746268656716"
      ]
     },
     "execution_count": 117,
     "metadata": {},
     "output_type": "execute_result"
    }
   ],
   "source": [
    "acuracia2 = accuracy_score(y_test, arvore2.predict(X_test))\n",
    "\n",
    "acuracia2"
   ]
  }
 ],
 "metadata": {
  "kernelspec": {
   "display_name": "myenv",
   "language": "python",
   "name": "python3"
  },
  "language_info": {
   "codemirror_mode": {
    "name": "ipython",
    "version": 3
   },
   "file_extension": ".py",
   "mimetype": "text/x-python",
   "name": "python",
   "nbconvert_exporter": "python",
   "pygments_lexer": "ipython3",
   "version": "3.12.5"
  }
 },
 "nbformat": 4,
 "nbformat_minor": 2
}
